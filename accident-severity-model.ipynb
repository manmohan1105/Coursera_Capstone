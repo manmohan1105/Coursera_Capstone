{
  "nbformat": 4,
  "nbformat_minor": 0,
  "metadata": {
    "colab": {
      "name": "Untitled4.ipynb",
      "provenance": []
    },
    "kernelspec": {
      "name": "python3",
      "display_name": "Python 3"
    }
  },
  "cells": [
    {
      "cell_type": "markdown",
      "metadata": {
        "id": "eJV20aToK0JQ"
      },
      "source": [
        "**Problem Statement** -This model is based on accident severity Prediction as we know Without knowledgeable action, road traffic injuries are said to be the seventh leading cause of death by the year 2030. this Model will aim to predict the place where road accidents can casually occurs that help us to make a quick action to prevent them"
      ]
    },
    {
      "cell_type": "code",
      "metadata": {
        "id": "Ild6d_hupH-t"
      },
      "source": [
        "%matplotlib inline\n",
        "import warnings\n",
        "warnings.filterwarnings('ignore')\n",
        "import pandas as pd\n",
        "import numpy as np\n",
        "import matplotlib.pyplot as plt\n",
        "import seaborn as sns\n"
      ],
      "execution_count": 1,
      "outputs": []
    },
    {
      "cell_type": "code",
      "metadata": {
        "id": "GV9k7wCt97rE",
        "outputId": "448f514a-fcac-484d-b76c-6cb92e1094f0",
        "colab": {
          "resources": {
            "http://localhost:8080/nbextensions/google.colab/files.js": {
              "data": "Ly8gQ29weXJpZ2h0IDIwMTcgR29vZ2xlIExMQwovLwovLyBMaWNlbnNlZCB1bmRlciB0aGUgQXBhY2hlIExpY2Vuc2UsIFZlcnNpb24gMi4wICh0aGUgIkxpY2Vuc2UiKTsKLy8geW91IG1heSBub3QgdXNlIHRoaXMgZmlsZSBleGNlcHQgaW4gY29tcGxpYW5jZSB3aXRoIHRoZSBMaWNlbnNlLgovLyBZb3UgbWF5IG9idGFpbiBhIGNvcHkgb2YgdGhlIExpY2Vuc2UgYXQKLy8KLy8gICAgICBodHRwOi8vd3d3LmFwYWNoZS5vcmcvbGljZW5zZXMvTElDRU5TRS0yLjAKLy8KLy8gVW5sZXNzIHJlcXVpcmVkIGJ5IGFwcGxpY2FibGUgbGF3IG9yIGFncmVlZCB0byBpbiB3cml0aW5nLCBzb2Z0d2FyZQovLyBkaXN0cmlidXRlZCB1bmRlciB0aGUgTGljZW5zZSBpcyBkaXN0cmlidXRlZCBvbiBhbiAiQVMgSVMiIEJBU0lTLAovLyBXSVRIT1VUIFdBUlJBTlRJRVMgT1IgQ09ORElUSU9OUyBPRiBBTlkgS0lORCwgZWl0aGVyIGV4cHJlc3Mgb3IgaW1wbGllZC4KLy8gU2VlIHRoZSBMaWNlbnNlIGZvciB0aGUgc3BlY2lmaWMgbGFuZ3VhZ2UgZ292ZXJuaW5nIHBlcm1pc3Npb25zIGFuZAovLyBsaW1pdGF0aW9ucyB1bmRlciB0aGUgTGljZW5zZS4KCi8qKgogKiBAZmlsZW92ZXJ2aWV3IEhlbHBlcnMgZm9yIGdvb2dsZS5jb2xhYiBQeXRob24gbW9kdWxlLgogKi8KKGZ1bmN0aW9uKHNjb3BlKSB7CmZ1bmN0aW9uIHNwYW4odGV4dCwgc3R5bGVBdHRyaWJ1dGVzID0ge30pIHsKICBjb25zdCBlbGVtZW50ID0gZG9jdW1lbnQuY3JlYXRlRWxlbWVudCgnc3BhbicpOwogIGVsZW1lbnQudGV4dENvbnRlbnQgPSB0ZXh0OwogIGZvciAoY29uc3Qga2V5IG9mIE9iamVjdC5rZXlzKHN0eWxlQXR0cmlidXRlcykpIHsKICAgIGVsZW1lbnQuc3R5bGVba2V5XSA9IHN0eWxlQXR0cmlidXRlc1trZXldOwogIH0KICByZXR1cm4gZWxlbWVudDsKfQoKLy8gTWF4IG51bWJlciBvZiBieXRlcyB3aGljaCB3aWxsIGJlIHVwbG9hZGVkIGF0IGEgdGltZS4KY29uc3QgTUFYX1BBWUxPQURfU0laRSA9IDEwMCAqIDEwMjQ7CgpmdW5jdGlvbiBfdXBsb2FkRmlsZXMoaW5wdXRJZCwgb3V0cHV0SWQpIHsKICBjb25zdCBzdGVwcyA9IHVwbG9hZEZpbGVzU3RlcChpbnB1dElkLCBvdXRwdXRJZCk7CiAgY29uc3Qgb3V0cHV0RWxlbWVudCA9IGRvY3VtZW50LmdldEVsZW1lbnRCeUlkKG91dHB1dElkKTsKICAvLyBDYWNoZSBzdGVwcyBvbiB0aGUgb3V0cHV0RWxlbWVudCB0byBtYWtlIGl0IGF2YWlsYWJsZSBmb3IgdGhlIG5leHQgY2FsbAogIC8vIHRvIHVwbG9hZEZpbGVzQ29udGludWUgZnJvbSBQeXRob24uCiAgb3V0cHV0RWxlbWVudC5zdGVwcyA9IHN0ZXBzOwoKICByZXR1cm4gX3VwbG9hZEZpbGVzQ29udGludWUob3V0cHV0SWQpOwp9CgovLyBUaGlzIGlzIHJvdWdobHkgYW4gYXN5bmMgZ2VuZXJhdG9yIChub3Qgc3VwcG9ydGVkIGluIHRoZSBicm93c2VyIHlldCksCi8vIHdoZXJlIHRoZXJlIGFyZSBtdWx0aXBsZSBhc3luY2hyb25vdXMgc3RlcHMgYW5kIHRoZSBQeXRob24gc2lkZSBpcyBnb2luZwovLyB0byBwb2xsIGZvciBjb21wbGV0aW9uIG9mIGVhY2ggc3RlcC4KLy8gVGhpcyB1c2VzIGEgUHJvbWlzZSB0byBibG9jayB0aGUgcHl0aG9uIHNpZGUgb24gY29tcGxldGlvbiBvZiBlYWNoIHN0ZXAsCi8vIHRoZW4gcGFzc2VzIHRoZSByZXN1bHQgb2YgdGhlIHByZXZpb3VzIHN0ZXAgYXMgdGhlIGlucHV0IHRvIHRoZSBuZXh0IHN0ZXAuCmZ1bmN0aW9uIF91cGxvYWRGaWxlc0NvbnRpbnVlKG91dHB1dElkKSB7CiAgY29uc3Qgb3V0cHV0RWxlbWVudCA9IGRvY3VtZW50LmdldEVsZW1lbnRCeUlkKG91dHB1dElkKTsKICBjb25zdCBzdGVwcyA9IG91dHB1dEVsZW1lbnQuc3RlcHM7CgogIGNvbnN0IG5leHQgPSBzdGVwcy5uZXh0KG91dHB1dEVsZW1lbnQubGFzdFByb21pc2VWYWx1ZSk7CiAgcmV0dXJuIFByb21pc2UucmVzb2x2ZShuZXh0LnZhbHVlLnByb21pc2UpLnRoZW4oKHZhbHVlKSA9PiB7CiAgICAvLyBDYWNoZSB0aGUgbGFzdCBwcm9taXNlIHZhbHVlIHRvIG1ha2UgaXQgYXZhaWxhYmxlIHRvIHRoZSBuZXh0CiAgICAvLyBzdGVwIG9mIHRoZSBnZW5lcmF0b3IuCiAgICBvdXRwdXRFbGVtZW50Lmxhc3RQcm9taXNlVmFsdWUgPSB2YWx1ZTsKICAgIHJldHVybiBuZXh0LnZhbHVlLnJlc3BvbnNlOwogIH0pOwp9CgovKioKICogR2VuZXJhdG9yIGZ1bmN0aW9uIHdoaWNoIGlzIGNhbGxlZCBiZXR3ZWVuIGVhY2ggYXN5bmMgc3RlcCBvZiB0aGUgdXBsb2FkCiAqIHByb2Nlc3MuCiAqIEBwYXJhbSB7c3RyaW5nfSBpbnB1dElkIEVsZW1lbnQgSUQgb2YgdGhlIGlucHV0IGZpbGUgcGlja2VyIGVsZW1lbnQuCiAqIEBwYXJhbSB7c3RyaW5nfSBvdXRwdXRJZCBFbGVtZW50IElEIG9mIHRoZSBvdXRwdXQgZGlzcGxheS4KICogQHJldHVybiB7IUl0ZXJhYmxlPCFPYmplY3Q+fSBJdGVyYWJsZSBvZiBuZXh0IHN0ZXBzLgogKi8KZnVuY3Rpb24qIHVwbG9hZEZpbGVzU3RlcChpbnB1dElkLCBvdXRwdXRJZCkgewogIGNvbnN0IGlucHV0RWxlbWVudCA9IGRvY3VtZW50LmdldEVsZW1lbnRCeUlkKGlucHV0SWQpOwogIGlucHV0RWxlbWVudC5kaXNhYmxlZCA9IGZhbHNlOwoKICBjb25zdCBvdXRwdXRFbGVtZW50ID0gZG9jdW1lbnQuZ2V0RWxlbWVudEJ5SWQob3V0cHV0SWQpOwogIG91dHB1dEVsZW1lbnQuaW5uZXJIVE1MID0gJyc7CgogIGNvbnN0IHBpY2tlZFByb21pc2UgPSBuZXcgUHJvbWlzZSgocmVzb2x2ZSkgPT4gewogICAgaW5wdXRFbGVtZW50LmFkZEV2ZW50TGlzdGVuZXIoJ2NoYW5nZScsIChlKSA9PiB7CiAgICAgIHJlc29sdmUoZS50YXJnZXQuZmlsZXMpOwogICAgfSk7CiAgfSk7CgogIGNvbnN0IGNhbmNlbCA9IGRvY3VtZW50LmNyZWF0ZUVsZW1lbnQoJ2J1dHRvbicpOwogIGlucHV0RWxlbWVudC5wYXJlbnRFbGVtZW50LmFwcGVuZENoaWxkKGNhbmNlbCk7CiAgY2FuY2VsLnRleHRDb250ZW50ID0gJ0NhbmNlbCB1cGxvYWQnOwogIGNvbnN0IGNhbmNlbFByb21pc2UgPSBuZXcgUHJvbWlzZSgocmVzb2x2ZSkgPT4gewogICAgY2FuY2VsLm9uY2xpY2sgPSAoKSA9PiB7CiAgICAgIHJlc29sdmUobnVsbCk7CiAgICB9OwogIH0pOwoKICAvLyBXYWl0IGZvciB0aGUgdXNlciB0byBwaWNrIHRoZSBmaWxlcy4KICBjb25zdCBmaWxlcyA9IHlpZWxkIHsKICAgIHByb21pc2U6IFByb21pc2UucmFjZShbcGlja2VkUHJvbWlzZSwgY2FuY2VsUHJvbWlzZV0pLAogICAgcmVzcG9uc2U6IHsKICAgICAgYWN0aW9uOiAnc3RhcnRpbmcnLAogICAgfQogIH07CgogIGNhbmNlbC5yZW1vdmUoKTsKCiAgLy8gRGlzYWJsZSB0aGUgaW5wdXQgZWxlbWVudCBzaW5jZSBmdXJ0aGVyIHBpY2tzIGFyZSBub3QgYWxsb3dlZC4KICBpbnB1dEVsZW1lbnQuZGlzYWJsZWQgPSB0cnVlOwoKICBpZiAoIWZpbGVzKSB7CiAgICByZXR1cm4gewogICAgICByZXNwb25zZTogewogICAgICAgIGFjdGlvbjogJ2NvbXBsZXRlJywKICAgICAgfQogICAgfTsKICB9CgogIGZvciAoY29uc3QgZmlsZSBvZiBmaWxlcykgewogICAgY29uc3QgbGkgPSBkb2N1bWVudC5jcmVhdGVFbGVtZW50KCdsaScpOwogICAgbGkuYXBwZW5kKHNwYW4oZmlsZS5uYW1lLCB7Zm9udFdlaWdodDogJ2JvbGQnfSkpOwogICAgbGkuYXBwZW5kKHNwYW4oCiAgICAgICAgYCgke2ZpbGUudHlwZSB8fCAnbi9hJ30pIC0gJHtmaWxlLnNpemV9IGJ5dGVzLCBgICsKICAgICAgICBgbGFzdCBtb2RpZmllZDogJHsKICAgICAgICAgICAgZmlsZS5sYXN0TW9kaWZpZWREYXRlID8gZmlsZS5sYXN0TW9kaWZpZWREYXRlLnRvTG9jYWxlRGF0ZVN0cmluZygpIDoKICAgICAgICAgICAgICAgICAgICAgICAgICAgICAgICAgICAgJ24vYSd9IC0gYCkpOwogICAgY29uc3QgcGVyY2VudCA9IHNwYW4oJzAlIGRvbmUnKTsKICAgIGxpLmFwcGVuZENoaWxkKHBlcmNlbnQpOwoKICAgIG91dHB1dEVsZW1lbnQuYXBwZW5kQ2hpbGQobGkpOwoKICAgIGNvbnN0IGZpbGVEYXRhUHJvbWlzZSA9IG5ldyBQcm9taXNlKChyZXNvbHZlKSA9PiB7CiAgICAgIGNvbnN0IHJlYWRlciA9IG5ldyBGaWxlUmVhZGVyKCk7CiAgICAgIHJlYWRlci5vbmxvYWQgPSAoZSkgPT4gewogICAgICAgIHJlc29sdmUoZS50YXJnZXQucmVzdWx0KTsKICAgICAgfTsKICAgICAgcmVhZGVyLnJlYWRBc0FycmF5QnVmZmVyKGZpbGUpOwogICAgfSk7CiAgICAvLyBXYWl0IGZvciB0aGUgZGF0YSB0byBiZSByZWFkeS4KICAgIGxldCBmaWxlRGF0YSA9IHlpZWxkIHsKICAgICAgcHJvbWlzZTogZmlsZURhdGFQcm9taXNlLAogICAgICByZXNwb25zZTogewogICAgICAgIGFjdGlvbjogJ2NvbnRpbnVlJywKICAgICAgfQogICAgfTsKCiAgICAvLyBVc2UgYSBjaHVua2VkIHNlbmRpbmcgdG8gYXZvaWQgbWVzc2FnZSBzaXplIGxpbWl0cy4gU2VlIGIvNjIxMTU2NjAuCiAgICBsZXQgcG9zaXRpb24gPSAwOwogICAgd2hpbGUgKHBvc2l0aW9uIDwgZmlsZURhdGEuYnl0ZUxlbmd0aCkgewogICAgICBjb25zdCBsZW5ndGggPSBNYXRoLm1pbihmaWxlRGF0YS5ieXRlTGVuZ3RoIC0gcG9zaXRpb24sIE1BWF9QQVlMT0FEX1NJWkUpOwogICAgICBjb25zdCBjaHVuayA9IG5ldyBVaW50OEFycmF5KGZpbGVEYXRhLCBwb3NpdGlvbiwgbGVuZ3RoKTsKICAgICAgcG9zaXRpb24gKz0gbGVuZ3RoOwoKICAgICAgY29uc3QgYmFzZTY0ID0gYnRvYShTdHJpbmcuZnJvbUNoYXJDb2RlLmFwcGx5KG51bGwsIGNodW5rKSk7CiAgICAgIHlpZWxkIHsKICAgICAgICByZXNwb25zZTogewogICAgICAgICAgYWN0aW9uOiAnYXBwZW5kJywKICAgICAgICAgIGZpbGU6IGZpbGUubmFtZSwKICAgICAgICAgIGRhdGE6IGJhc2U2NCwKICAgICAgICB9LAogICAgICB9OwogICAgICBwZXJjZW50LnRleHRDb250ZW50ID0KICAgICAgICAgIGAke01hdGgucm91bmQoKHBvc2l0aW9uIC8gZmlsZURhdGEuYnl0ZUxlbmd0aCkgKiAxMDApfSUgZG9uZWA7CiAgICB9CiAgfQoKICAvLyBBbGwgZG9uZS4KICB5aWVsZCB7CiAgICByZXNwb25zZTogewogICAgICBhY3Rpb246ICdjb21wbGV0ZScsCiAgICB9CiAgfTsKfQoKc2NvcGUuZ29vZ2xlID0gc2NvcGUuZ29vZ2xlIHx8IHt9OwpzY29wZS5nb29nbGUuY29sYWIgPSBzY29wZS5nb29nbGUuY29sYWIgfHwge307CnNjb3BlLmdvb2dsZS5jb2xhYi5fZmlsZXMgPSB7CiAgX3VwbG9hZEZpbGVzLAogIF91cGxvYWRGaWxlc0NvbnRpbnVlLAp9Owp9KShzZWxmKTsK",
              "ok": true,
              "headers": [
                [
                  "content-type",
                  "application/javascript"
                ]
              ],
              "status": 200,
              "status_text": ""
            }
          },
          "base_uri": "https://localhost:8080/",
          "height": 73
        }
      },
      "source": [
        "from google.colab import files\n",
        "uploaded = files.upload()"
      ],
      "execution_count": 3,
      "outputs": [
        {
          "output_type": "display_data",
          "data": {
            "text/html": [
              "\n",
              "     <input type=\"file\" id=\"files-43581a06-ad61-4f9d-84b0-8f766f101cb8\" name=\"files[]\" multiple disabled\n",
              "        style=\"border:none\" />\n",
              "     <output id=\"result-43581a06-ad61-4f9d-84b0-8f766f101cb8\">\n",
              "      Upload widget is only available when the cell has been executed in the\n",
              "      current browser session. Please rerun this cell to enable.\n",
              "      </output>\n",
              "      <script src=\"/nbextensions/google.colab/files.js\"></script> "
            ],
            "text/plain": [
              "<IPython.core.display.HTML object>"
            ]
          },
          "metadata": {
            "tags": []
          }
        },
        {
          "output_type": "stream",
          "text": [
            "Saving accidents.csv to accidents.csv\n"
          ],
          "name": "stdout"
        }
      ]
    },
    {
      "cell_type": "code",
      "metadata": {
        "id": "BwRABIok-6oT"
      },
      "source": [
        "import io\n",
        "df = pd.read_csv(io.BytesIO(uploaded['accidents.csv']))"
      ],
      "execution_count": 6,
      "outputs": []
    },
    {
      "cell_type": "code",
      "metadata": {
        "id": "_yVSLsoX_n2d",
        "outputId": "7f5c2bd0-2e69-4275-de9f-62243269aa8e",
        "colab": {
          "base_uri": "https://localhost:8080/",
          "height": 279
        }
      },
      "source": [
        "df.head()"
      ],
      "execution_count": 7,
      "outputs": [
        {
          "output_type": "execute_result",
          "data": {
            "text/html": [
              "<div>\n",
              "<style scoped>\n",
              "    .dataframe tbody tr th:only-of-type {\n",
              "        vertical-align: middle;\n",
              "    }\n",
              "\n",
              "    .dataframe tbody tr th {\n",
              "        vertical-align: top;\n",
              "    }\n",
              "\n",
              "    .dataframe thead th {\n",
              "        text-align: right;\n",
              "    }\n",
              "</style>\n",
              "<table border=\"1\" class=\"dataframe\">\n",
              "  <thead>\n",
              "    <tr style=\"text-align: right;\">\n",
              "      <th></th>\n",
              "      <th>wkt_geom</th>\n",
              "      <th>code</th>\n",
              "      <th>severity</th>\n",
              "      <th>time</th>\n",
              "      <th>lat</th>\n",
              "      <th>desc</th>\n",
              "      <th>lon</th>\n",
              "      <th>name</th>\n",
              "      <th>clust</th>\n",
              "      <th>NN</th>\n",
              "    </tr>\n",
              "  </thead>\n",
              "  <tbody>\n",
              "    <tr>\n",
              "      <th>0</th>\n",
              "      <td>POINT(6119950.59451242536306381 1886366.970110...</td>\n",
              "      <td>201</td>\n",
              "      <td>2</td>\n",
              "      <td>04/10/13 08:00 AM</td>\n",
              "      <td>77.165655</td>\n",
              "      <td>NaN</td>\n",
              "      <td>26.984052</td>\n",
              "      <td>Accident(s)</td>\n",
              "      <td>31</td>\n",
              "      <td>11</td>\n",
              "    </tr>\n",
              "    <tr>\n",
              "      <th>1</th>\n",
              "      <td>POINT(6163265.98209197819232941 2195198.763392...</td>\n",
              "      <td>201</td>\n",
              "      <td>2</td>\n",
              "      <td>04/10/13 05:30 PM</td>\n",
              "      <td>78.015568</td>\n",
              "      <td>NaN</td>\n",
              "      <td>27.117024</td>\n",
              "      <td>Accident(s)</td>\n",
              "      <td>14</td>\n",
              "      <td>3</td>\n",
              "    </tr>\n",
              "    <tr>\n",
              "      <th>2</th>\n",
              "      <td>POINT(6156011.13359668850898743 2064637.280291...</td>\n",
              "      <td>201</td>\n",
              "      <td>3</td>\n",
              "      <td>04/10/13 05:55 PM</td>\n",
              "      <td>77.656750</td>\n",
              "      <td>NaN</td>\n",
              "      <td>27.098630</td>\n",
              "      <td>Accident(s)</td>\n",
              "      <td>11</td>\n",
              "      <td>52</td>\n",
              "    </tr>\n",
              "    <tr>\n",
              "      <th>3</th>\n",
              "      <td>POINT(6040154.25608104187995195 2127971.038348...</td>\n",
              "      <td>201</td>\n",
              "      <td>3</td>\n",
              "      <td>04/10/13 06:17 PM</td>\n",
              "      <td>77.825210</td>\n",
              "      <td>NaN</td>\n",
              "      <td>26.694260</td>\n",
              "      <td>Accident(s)</td>\n",
              "      <td>28</td>\n",
              "      <td>11</td>\n",
              "    </tr>\n",
              "    <tr>\n",
              "      <th>4</th>\n",
              "      <td>POINT(6160755.65850416570901871 2058394.601888...</td>\n",
              "      <td>243</td>\n",
              "      <td>3</td>\n",
              "      <td>04/10/13 06:19 PM</td>\n",
              "      <td>77.639801</td>\n",
              "      <td>NaN</td>\n",
              "      <td>27.115337</td>\n",
              "      <td>Accident. Left lane blocked</td>\n",
              "      <td>11</td>\n",
              "      <td>51</td>\n",
              "    </tr>\n",
              "  </tbody>\n",
              "</table>\n",
              "</div>"
            ],
            "text/plain": [
              "                                            wkt_geom  code  ...  clust  NN\n",
              "0  POINT(6119950.59451242536306381 1886366.970110...   201  ...     31  11\n",
              "1  POINT(6163265.98209197819232941 2195198.763392...   201  ...     14   3\n",
              "2  POINT(6156011.13359668850898743 2064637.280291...   201  ...     11  52\n",
              "3  POINT(6040154.25608104187995195 2127971.038348...   201  ...     28  11\n",
              "4  POINT(6160755.65850416570901871 2058394.601888...   243  ...     11  51\n",
              "\n",
              "[5 rows x 10 columns]"
            ]
          },
          "metadata": {
            "tags": []
          },
          "execution_count": 7
        }
      ]
    },
    {
      "cell_type": "code",
      "metadata": {
        "id": "yEkCGFLL_tUG",
        "outputId": "695d4271-947b-4db6-a5d7-70214ec2b79e",
        "colab": {
          "base_uri": "https://localhost:8080/",
          "height": 34
        }
      },
      "source": [
        "df.shape"
      ],
      "execution_count": 8,
      "outputs": [
        {
          "output_type": "execute_result",
          "data": {
            "text/plain": [
              "(36314, 10)"
            ]
          },
          "metadata": {
            "tags": []
          },
          "execution_count": 8
        }
      ]
    },
    {
      "cell_type": "code",
      "metadata": {
        "id": "AMt5vOjA_0RX",
        "outputId": "cce12cf4-b1c9-4b06-91f3-399127607871",
        "colab": {
          "base_uri": "https://localhost:8080/",
          "height": 297
        }
      },
      "source": [
        "#characterstick graph\n",
        "#severity vs count\n",
        "\n",
        "sns.countplot(y = \"severity\" , data = df )\n",
        "plt.tight_layout()"
      ],
      "execution_count": 9,
      "outputs": [
        {
          "output_type": "display_data",
          "data": {
            "image/png": "[encoded data removed]",
            "text/plain": [
              "<Figure size 432x288 with 1 Axes>"
            ]
          },
          "metadata": {
            "tags": [],
            "needs_background": "light"
          }
        }
      ]
    },
    {
      "cell_type": "code",
      "metadata": {
        "id": "tMTQHGmG_6MV",
        "outputId": "51481047-ba5d-4994-8e71-a1737ebd8c91",
        "colab": {
          "base_uri": "https://localhost:8080/",
          "height": 195
        }
      },
      "source": [
        "#here we check for outlier and boundries\n",
        "\n",
        "pd.DataFrame( {\"count\": df[\"severity\"].value_counts().values } , index = df[\"severity\"].value_counts().index )"
      ],
      "execution_count": 10,
      "outputs": [
        {
          "output_type": "execute_result",
          "data": {
            "text/html": [
              "<div>\n",
              "<style scoped>\n",
              "    .dataframe tbody tr th:only-of-type {\n",
              "        vertical-align: middle;\n",
              "    }\n",
              "\n",
              "    .dataframe tbody tr th {\n",
              "        vertical-align: top;\n",
              "    }\n",
              "\n",
              "    .dataframe thead th {\n",
              "        text-align: right;\n",
              "    }\n",
              "</style>\n",
              "<table border=\"1\" class=\"dataframe\">\n",
              "  <thead>\n",
              "    <tr style=\"text-align: right;\">\n",
              "      <th></th>\n",
              "      <th>count</th>\n",
              "    </tr>\n",
              "  </thead>\n",
              "  <tbody>\n",
              "    <tr>\n",
              "      <th>2</th>\n",
              "      <td>20944</td>\n",
              "    </tr>\n",
              "    <tr>\n",
              "      <th>3</th>\n",
              "      <td>15296</td>\n",
              "    </tr>\n",
              "    <tr>\n",
              "      <th>4</th>\n",
              "      <td>54</td>\n",
              "    </tr>\n",
              "    <tr>\n",
              "      <th>1</th>\n",
              "      <td>19</td>\n",
              "    </tr>\n",
              "    <tr>\n",
              "      <th>0</th>\n",
              "      <td>1</td>\n",
              "    </tr>\n",
              "  </tbody>\n",
              "</table>\n",
              "</div>"
            ],
            "text/plain": [
              "   count\n",
              "2  20944\n",
              "3  15296\n",
              "4     54\n",
              "1     19\n",
              "0      1"
            ]
          },
          "metadata": {
            "tags": []
          },
          "execution_count": 10
        }
      ]
    },
    {
      "cell_type": "markdown",
      "metadata": {
        "id": "uEBkm4rmADvN"
      },
      "source": [
        "**The dataset is very unbalanced so we remove the rows with severity = 0 , 1 or 4**"
      ]
    },
    {
      "cell_type": "code",
      "metadata": {
        "id": "zMuRcDTQ__DX"
      },
      "source": [
        "df = df.loc[df[\"severity\"] >  1].loc[df[\"severity\"] < 4]\n"
      ],
      "execution_count": 11,
      "outputs": []
    },
    {
      "cell_type": "markdown",
      "metadata": {
        "id": "6iCxApadAUIk"
      },
      "source": [
        "**Pre-Processing the time features: creating months, weekday year and hour features because we cant use time directly , its in DD:MM:YY HH:MM:SS format**"
      ]
    },
    {
      "cell_type": "code",
      "metadata": {
        "id": "EmHXiKIhAbid"
      },
      "source": [
        "df[\"month\"] = df[\"time\"].apply(lambda x:int(x[:2]))\n",
        "df[\"day\"] = df[\"time\"].apply(lambda x:int(x[3:5]))\n",
        "df[\"year\"] = df[\"time\"].apply(lambda x:int(x[6:8]))\n",
        "df[\"hour\"] =  df[\"time\"].apply(lambda x: int(x[9:11]) if str(x)[15] == 'A' else 12 + int(x[9:11])  )\n",
        "df[\"lon\"] = df[\"lon\"].apply(lambda x:abs(x)) #so that multinomialNB works (only with positive features)\n",
        "#creating the date at the datetime format (easier to deal with)\n",
        "df[ \"date\" ]= df[[\"month\" , \"day\" ,\"year\"]].apply(lambda x:pd.datetime(month = x['month'] , day = x['day']  , year = 2000+x[\"year\"]), axis = 1)\n",
        "df[\"weekday\"] =  df[\"date\"].apply(lambda x:x.weekday())"
      ],
      "execution_count": 12,
      "outputs": []
    },
    {
      "cell_type": "code",
      "metadata": {
        "id": "369t473KAjWT",
        "outputId": "866526e4-36a6-49ea-e05f-def63daf48a4",
        "colab": {
          "base_uri": "https://localhost:8080/",
          "height": 297
        }
      },
      "source": [
        "#plotting the dataset with a different color depending on the severity (2,3)\n",
        "#longitude vs lattitude\n",
        "\n",
        "df2 = df.loc[df[\"severity\"] == 2]\n",
        "df3 = df.loc[df[\"severity\"] == 3]\n",
        "\n",
        "xx2 , yy2 = df2[\"lat\"] , -df2[\"lon\"]\n",
        "xx3 , yy3 = df3[\"lat\"] , -df3[\"lon\"]\n",
        "\n",
        "pts2 = plt.scatter(xx2,yy2,color = 'g' )\n",
        "pts3 = plt.scatter(xx3,yy3,color = 'y' )\n",
        "plt.legend((pts2, pts3), ('Severity = 2', 'Severity = 3'),loc='lower left')\n",
        "plt.title(\"Accident Severity Map\")\n",
        "plt.tight_layout()"
      ],
      "execution_count": 13,
      "outputs": [
        {
          "output_type": "display_data",
          "data": {
            "image/png": "[encoded data removed]",
            "text/plain": [
              "<Figure size 432x288 with 1 Axes>"
            ]
          },
          "metadata": {
            "tags": [],
            "needs_background": "light"
          }
        }
      ]
    },
    {
      "cell_type": "markdown",
      "metadata": {
        "id": "JK-BV1M7AyqY"
      },
      "source": [
        "**Univariate and different Analysis wrt differnt variables in the data sets are as follow :-**"
      ]
    },
    {
      "cell_type": "code",
      "metadata": {
        "id": "-CqLzvz5AtIz",
        "outputId": "f5e59581-ae8c-4efe-dae3-e85dc0fdc8e1",
        "colab": {
          "base_uri": "https://localhost:8080/",
          "height": 297
        }
      },
      "source": [
        "#classifiction , hour vs counts\n",
        "\n",
        "sns.countplot(y = \"hour\" , data = df , order = range(1,25))\n",
        "plt.title(\"Number of accidents by hour\")\n",
        "plt.tight_layout()"
      ],
      "execution_count": 14,
      "outputs": [
        {
          "output_type": "display_data",
          "data": {
            "image/png": "[encoded data removed]",
            "text/plain": [
              "<Figure size 432x288 with 1 Axes>"
            ]
          },
          "metadata": {
            "tags": [],
            "needs_background": "light"
          }
        }
      ]
    },
    {
      "cell_type": "code",
      "metadata": {
        "id": "yw9pgl-OA-aO",
        "outputId": "5f8173df-2771-45fa-c1fe-3777e2bed7e1",
        "colab": {
          "base_uri": "https://localhost:8080/",
          "height": 297
        }
      },
      "source": [
        "#classification , month vs count\n",
        "\n",
        "sns.countplot(y = \"month\" , data = df)\n",
        "plt.title(\"Number of accidents by month\")\n",
        "plt.tight_layout()"
      ],
      "execution_count": 15,
      "outputs": [
        {
          "output_type": "display_data",
          "data": {
            "image/png": "[encoded data removed]",
            "text/plain": [
              "<Figure size 432x288 with 1 Axes>"
            ]
          },
          "metadata": {
            "tags": [],
            "needs_background": "light"
          }
        }
      ]
    },
    {
      "cell_type": "code",
      "metadata": {
        "id": "H8_ku8iPBXze",
        "outputId": "08d92a5b-0d26-4c57-977b-a0f3350f3908",
        "colab": {
          "base_uri": "https://localhost:8080/",
          "height": 297
        }
      },
      "source": [
        "#classification , weekdays vs count\n",
        "\n",
        "sns.countplot(y = \"weekday\" , data = df)\n",
        "plt.title(\"Number of accidents by weekday\")\n",
        "plt.tight_layout()"
      ],
      "execution_count": 16,
      "outputs": [
        {
          "output_type": "display_data",
          "data": {
            "image/png": "[encoded data removed]",
            "text/plain": [
              "<Figure size 432x288 with 1 Axes>"
            ]
          },
          "metadata": {
            "tags": [],
            "needs_background": "light"
          }
        }
      ]
    },
    {
      "cell_type": "code",
      "metadata": {
        "id": "N_htaGn5Bkou",
        "outputId": "f07078a8-2bb8-4f7f-f7b1-dc032a444a6b",
        "colab": {
          "base_uri": "https://localhost:8080/",
          "height": 758
        }
      },
      "source": [
        "#ratio of severity ( 0 and 1 ) wrt time( hour)\n",
        "#here we find out that , why we need to \n",
        "#the outliers , additional information \n",
        "#this tells us the severity of accidents wrt time and when most of the accidents happens \n",
        "#and with what severity\n",
        "\n",
        "severity_by_hour = pd.crosstab(index = df[\"hour\"] , columns = df[\"severity\"] )\n",
        "severity_by_hour = pd.DataFrame(severity_by_hour.values)\n",
        "severity_by_hour[\"ratio\"] = severity_by_hour.apply(lambda x:x[0]/float(x[1]) , axis = 1)\n",
        "severity_by_hour.sort_values(by = \"ratio\")"
      ],
      "execution_count": 17,
      "outputs": [
        {
          "output_type": "execute_result",
          "data": {
            "text/html": [
              "<div>\n",
              "<style scoped>\n",
              "    .dataframe tbody tr th:only-of-type {\n",
              "        vertical-align: middle;\n",
              "    }\n",
              "\n",
              "    .dataframe tbody tr th {\n",
              "        vertical-align: top;\n",
              "    }\n",
              "\n",
              "    .dataframe thead th {\n",
              "        text-align: right;\n",
              "    }\n",
              "</style>\n",
              "<table border=\"1\" class=\"dataframe\">\n",
              "  <thead>\n",
              "    <tr style=\"text-align: right;\">\n",
              "      <th></th>\n",
              "      <th>0</th>\n",
              "      <th>1</th>\n",
              "      <th>ratio</th>\n",
              "    </tr>\n",
              "  </thead>\n",
              "  <tbody>\n",
              "    <tr>\n",
              "      <th>22</th>\n",
              "      <td>1363</td>\n",
              "      <td>1301</td>\n",
              "      <td>1.047656</td>\n",
              "    </tr>\n",
              "    <tr>\n",
              "      <th>0</th>\n",
              "      <td>1402</td>\n",
              "      <td>1329</td>\n",
              "      <td>1.054929</td>\n",
              "    </tr>\n",
              "    <tr>\n",
              "      <th>11</th>\n",
              "      <td>1447</td>\n",
              "      <td>1355</td>\n",
              "      <td>1.067897</td>\n",
              "    </tr>\n",
              "    <tr>\n",
              "      <th>12</th>\n",
              "      <td>656</td>\n",
              "      <td>596</td>\n",
              "      <td>1.100671</td>\n",
              "    </tr>\n",
              "    <tr>\n",
              "      <th>21</th>\n",
              "      <td>1300</td>\n",
              "      <td>1061</td>\n",
              "      <td>1.225259</td>\n",
              "    </tr>\n",
              "    <tr>\n",
              "      <th>23</th>\n",
              "      <td>452</td>\n",
              "      <td>358</td>\n",
              "      <td>1.262570</td>\n",
              "    </tr>\n",
              "    <tr>\n",
              "      <th>1</th>\n",
              "      <td>1283</td>\n",
              "      <td>1015</td>\n",
              "      <td>1.264039</td>\n",
              "    </tr>\n",
              "    <tr>\n",
              "      <th>13</th>\n",
              "      <td>1132</td>\n",
              "      <td>892</td>\n",
              "      <td>1.269058</td>\n",
              "    </tr>\n",
              "    <tr>\n",
              "      <th>20</th>\n",
              "      <td>1040</td>\n",
              "      <td>778</td>\n",
              "      <td>1.336761</td>\n",
              "    </tr>\n",
              "    <tr>\n",
              "      <th>14</th>\n",
              "      <td>1494</td>\n",
              "      <td>1060</td>\n",
              "      <td>1.409434</td>\n",
              "    </tr>\n",
              "    <tr>\n",
              "      <th>15</th>\n",
              "      <td>1416</td>\n",
              "      <td>965</td>\n",
              "      <td>1.467358</td>\n",
              "    </tr>\n",
              "    <tr>\n",
              "      <th>18</th>\n",
              "      <td>993</td>\n",
              "      <td>673</td>\n",
              "      <td>1.475483</td>\n",
              "    </tr>\n",
              "    <tr>\n",
              "      <th>19</th>\n",
              "      <td>1017</td>\n",
              "      <td>682</td>\n",
              "      <td>1.491202</td>\n",
              "    </tr>\n",
              "    <tr>\n",
              "      <th>16</th>\n",
              "      <td>1123</td>\n",
              "      <td>731</td>\n",
              "      <td>1.536252</td>\n",
              "    </tr>\n",
              "    <tr>\n",
              "      <th>17</th>\n",
              "      <td>982</td>\n",
              "      <td>625</td>\n",
              "      <td>1.571200</td>\n",
              "    </tr>\n",
              "    <tr>\n",
              "      <th>10</th>\n",
              "      <td>341</td>\n",
              "      <td>217</td>\n",
              "      <td>1.571429</td>\n",
              "    </tr>\n",
              "    <tr>\n",
              "      <th>2</th>\n",
              "      <td>778</td>\n",
              "      <td>460</td>\n",
              "      <td>1.691304</td>\n",
              "    </tr>\n",
              "    <tr>\n",
              "      <th>9</th>\n",
              "      <td>317</td>\n",
              "      <td>177</td>\n",
              "      <td>1.790960</td>\n",
              "    </tr>\n",
              "    <tr>\n",
              "      <th>8</th>\n",
              "      <td>316</td>\n",
              "      <td>150</td>\n",
              "      <td>2.106667</td>\n",
              "    </tr>\n",
              "    <tr>\n",
              "      <th>7</th>\n",
              "      <td>318</td>\n",
              "      <td>147</td>\n",
              "      <td>2.163265</td>\n",
              "    </tr>\n",
              "    <tr>\n",
              "      <th>6</th>\n",
              "      <td>349</td>\n",
              "      <td>157</td>\n",
              "      <td>2.222930</td>\n",
              "    </tr>\n",
              "    <tr>\n",
              "      <th>5</th>\n",
              "      <td>446</td>\n",
              "      <td>192</td>\n",
              "      <td>2.322917</td>\n",
              "    </tr>\n",
              "    <tr>\n",
              "      <th>4</th>\n",
              "      <td>482</td>\n",
              "      <td>201</td>\n",
              "      <td>2.398010</td>\n",
              "    </tr>\n",
              "    <tr>\n",
              "      <th>3</th>\n",
              "      <td>497</td>\n",
              "      <td>174</td>\n",
              "      <td>2.856322</td>\n",
              "    </tr>\n",
              "  </tbody>\n",
              "</table>\n",
              "</div>"
            ],
            "text/plain": [
              "       0     1     ratio\n",
              "22  1363  1301  1.047656\n",
              "0   1402  1329  1.054929\n",
              "11  1447  1355  1.067897\n",
              "12   656   596  1.100671\n",
              "21  1300  1061  1.225259\n",
              "23   452   358  1.262570\n",
              "1   1283  1015  1.264039\n",
              "13  1132   892  1.269058\n",
              "20  1040   778  1.336761\n",
              "14  1494  1060  1.409434\n",
              "15  1416   965  1.467358\n",
              "18   993   673  1.475483\n",
              "19  1017   682  1.491202\n",
              "16  1123   731  1.536252\n",
              "17   982   625  1.571200\n",
              "10   341   217  1.571429\n",
              "2    778   460  1.691304\n",
              "9    317   177  1.790960\n",
              "8    316   150  2.106667\n",
              "7    318   147  2.163265\n",
              "6    349   157  2.222930\n",
              "5    446   192  2.322917\n",
              "4    482   201  2.398010\n",
              "3    497   174  2.856322"
            ]
          },
          "metadata": {
            "tags": []
          },
          "execution_count": 17
        }
      ]
    },
    {
      "cell_type": "code",
      "metadata": {
        "id": "0rkq3mrBB4Q3",
        "outputId": "2775f615-9550-493a-8794-a1eb580301bf",
        "colab": {
          "base_uri": "https://localhost:8080/",
          "height": 297
        }
      },
      "source": [
        "#correlation heatmap\n",
        "df_corr = df[[\"lat\" , \"lon\" , \"month\" , \"year\" , \"hour\" , \"weekday\" , \"severity\"]]\n",
        "correlation = df_corr.corr()\n",
        "sns.heatmap(correlation)\n",
        "plt.tight_layout()"
      ],
      "execution_count": 18,
      "outputs": [
        {
          "output_type": "display_data",
          "data": {
            "image/png": "[encoded data removed]",
            "text/plain": [
              "<Figure size 432x288 with 2 Axes>"
            ]
          },
          "metadata": {
            "tags": [],
            "needs_background": "light"
          }
        }
      ]
    },
    {
      "cell_type": "markdown",
      "metadata": {
        "id": "c-ROLZQACS6z"
      },
      "source": [
        "**Machine Learning and Different Algorithm's to predict Accidents Severity**\n",
        "> Here we will create training and test sets to use with cross valiadion\n",
        "> Also we are splitting the test size as 0.2 ( so its 20 % : test and 80 % : train) "
      ]
    },
    {
      "cell_type": "code",
      "metadata": {
        "id": "kXUNlwzLCNbZ"
      },
      "source": [
        "X = df[[\"month\" , \"hour\" , \"year\", \"weekday\" ,\"lon\" , \"lat\"]]\n",
        "y = df[\"severity\"].apply(lambda x:x-2) # shifting to 0-1 values instead of 2-3"
      ],
      "execution_count": 19,
      "outputs": []
    },
    {
      "cell_type": "markdown",
      "metadata": {
        "id": "dvECELhUEAAv"
      },
      "source": [
        "Spliting Data into Train Test split"
      ]
    },
    {
      "cell_type": "code",
      "metadata": {
        "id": "-Dam7g7bCTqc"
      },
      "source": [
        "#here we assign test size as 20% of actual data set \n",
        "# random state is set as 42 ( or 1 ) also from the reference of \" The Hitchhiker's Guide to the Galaxy\" \n",
        "# we defined random state to get consistent and same results , regardless of the training iterations \n",
        "# so that the values in the train and test sets are homogenous\n",
        "\n",
        "from sklearn.model_selection import train_test_split\n",
        "X_train, X_test, y_train, y_test = train_test_split(X, y, test_size=0.20, random_state=42)"
      ],
      "execution_count": 21,
      "outputs": []
    },
    {
      "cell_type": "code",
      "metadata": {
        "id": "uExZdsB_EQrP"
      },
      "source": [
        "#using the metrics package\n",
        "#algorithm's func to print the results\n",
        "from sklearn.metrics import *\n",
        "import warnings\n",
        "warnings.filterwarnings(\"ignore\", category=DeprecationWarning) \n",
        "def printScores(y_test, y_pred, classif_name):    \n",
        "    print (\"--------------  \"  + classif_name + \"  ------------------\")\n",
        "    print (\"recall : %0.2f\" %  recall_score(y_test, y_pred) )\n",
        "    print (\"precision : %0.2f\" %  precision_score(y_test, y_pred))   \n",
        "    print (\"f1 : %0.2f\" %  f1_score(y_test, y_pred))\n",
        "    print (\"accuracy : %0.2f\" %  accuracy_score(y_test, y_pred))\n",
        "    print (\"---------------------------------------------------\")"
      ],
      "execution_count": 22,
      "outputs": []
    },
    {
      "cell_type": "markdown",
      "metadata": {
        "id": "Vd5HxmNvCUKN"
      },
      "source": [
        "Before using sophisticated and predefined models, let's see what results the worst classifier would give"
      ]
    },
    {
      "cell_type": "code",
      "metadata": {
        "id": "Gotk_c7GEXdJ",
        "outputId": "65fefc5e-2e8e-4419-cc72-0553bb47ee44",
        "colab": {
          "base_uri": "https://localhost:8080/",
          "height": 106
        }
      },
      "source": [
        "#basic model to check accurary (worst)\n",
        "\n",
        "sev = y.value_counts()\n",
        "pd.DataFrame(sev)"
      ],
      "execution_count": 23,
      "outputs": [
        {
          "output_type": "execute_result",
          "data": {
            "text/html": [
              "<div>\n",
              "<style scoped>\n",
              "    .dataframe tbody tr th:only-of-type {\n",
              "        vertical-align: middle;\n",
              "    }\n",
              "\n",
              "    .dataframe tbody tr th {\n",
              "        vertical-align: top;\n",
              "    }\n",
              "\n",
              "    .dataframe thead th {\n",
              "        text-align: right;\n",
              "    }\n",
              "</style>\n",
              "<table border=\"1\" class=\"dataframe\">\n",
              "  <thead>\n",
              "    <tr style=\"text-align: right;\">\n",
              "      <th></th>\n",
              "      <th>severity</th>\n",
              "    </tr>\n",
              "  </thead>\n",
              "  <tbody>\n",
              "    <tr>\n",
              "      <th>0</th>\n",
              "      <td>20944</td>\n",
              "    </tr>\n",
              "    <tr>\n",
              "      <th>1</th>\n",
              "      <td>15296</td>\n",
              "    </tr>\n",
              "  </tbody>\n",
              "</table>\n",
              "</div>"
            ],
            "text/plain": [
              "   severity\n",
              "0     20944\n",
              "1     15296"
            ]
          },
          "metadata": {
            "tags": []
          },
          "execution_count": 23
        }
      ]
    },
    {
      "cell_type": "code",
      "metadata": {
        "id": "XKFBPVpZEctX",
        "outputId": "d0066a33-26df-4d5f-cfc8-96b5f601d760",
        "colab": {
          "base_uri": "https://localhost:8080/",
          "height": 34
        }
      },
      "source": [
        "#here we will calculate the worst accuracy \n",
        "\n",
        "print (\"worst accuracy is : \" , max(sev)/float(sum(sev)))"
      ],
      "execution_count": 25,
      "outputs": [
        {
          "output_type": "stream",
          "text": [
            "worst accuracy is :  0.577924944812362\n"
          ],
          "name": "stdout"
        }
      ]
    },
    {
      "cell_type": "markdown",
      "metadata": {
        "id": "wv8Ht0spEm98"
      },
      "source": [
        "**below are some algoriths which we tested (differnet approaches)\n",
        "and we will chose the one with max accuracy and suitable for our model **"
      ]
    },
    {
      "cell_type": "code",
      "metadata": {
        "id": "8fvIj4TTEh1u",
        "outputId": "9d3b32d9-8bb5-470f-c32c-d9ea71622d51",
        "colab": {
          "base_uri": "https://localhost:8080/",
          "height": 370
        }
      },
      "source": [
        "# knn \n",
        "\n",
        "# the distance func is being used here and the previous prediction \n",
        "# by KNN is being used , i.e 1, 3 ,7 \n",
        "# here it also non parametrized\n",
        "\n",
        "from sklearn.neighbors import KNeighborsClassifier\n",
        "for nb in [1,3,7]:\n",
        "    print (\"nb neighbors: %d\" %nb)    \n",
        "    clf = KNeighborsClassifier(n_neighbors=nb)\n",
        "    clf.fit(X_train,y_train)\n",
        "    y_pred = pd.Series(clf.predict(X_test))\n",
        "    printScores(y_test, y_pred, \"KNeighborsClassifier\")"
      ],
      "execution_count": 26,
      "outputs": [
        {
          "output_type": "stream",
          "text": [
            "nb neighbors: 1\n",
            "--------------  KNeighborsClassifier  ------------------\n",
            "recall : 0.66\n",
            "precision : 0.61\n",
            "f1 : 0.63\n",
            "accuracy : 0.68\n",
            "---------------------------------------------------\n",
            "nb neighbors: 3\n",
            "--------------  KNeighborsClassifier  ------------------\n",
            "recall : 0.61\n",
            "precision : 0.56\n",
            "f1 : 0.58\n",
            "accuracy : 0.63\n",
            "---------------------------------------------------\n",
            "nb neighbors: 7\n",
            "--------------  KNeighborsClassifier  ------------------\n",
            "recall : 0.55\n",
            "precision : 0.52\n",
            "f1 : 0.53\n",
            "accuracy : 0.59\n",
            "---------------------------------------------------\n"
          ],
          "name": "stdout"
        }
      ]
    },
    {
      "cell_type": "code",
      "metadata": {
        "id": "UeWr63RBFbS3",
        "outputId": "ae56d668-9c69-4241-ebda-5e869e4829b8",
        "colab": {
          "base_uri": "https://localhost:8080/",
          "height": 118
        }
      },
      "source": [
        "#logreg (it predicts everything to 0, the most common class)\n",
        "# a predictive analysis , where we comapre a relation between binary varaible \n",
        "# and other ordinal and nominal and indepdendent variables\n",
        "#also here we are not using any paramneter's\n",
        "#use from training set and test sets \n",
        "#for cross valiadtion\n",
        "\n",
        "\n",
        "from sklearn.linear_model import LogisticRegression\n",
        "clf = LogisticRegression()\n",
        "clf.fit(X_train,y_train)\n",
        "y_pred = pd.Series(clf.predict(X_test))\n",
        "printScores(y_test, y_pred, \"LogisticRegression\")"
      ],
      "execution_count": 27,
      "outputs": [
        {
          "output_type": "stream",
          "text": [
            "--------------  LogisticRegression  ------------------\n",
            "recall : 0.00\n",
            "precision : 0.00\n",
            "f1 : 0.00\n",
            "accuracy : 0.58\n",
            "---------------------------------------------------\n"
          ],
          "name": "stdout"
        }
      ]
    },
    {
      "cell_type": "code",
      "metadata": {
        "id": "o6c3NJZlFrl3",
        "outputId": "3583d0b7-7aa1-4508-8137-924039933e23",
        "colab": {
          "base_uri": "https://localhost:8080/",
          "height": 118
        }
      },
      "source": [
        "#tree\n",
        "\n",
        "#structured tree where it containts root nodes , leaf node\n",
        "#each brach of the tre depicts outcome of the tree\n",
        "\n",
        "# use from training set and test sets \n",
        "#for cross valiadtion\n",
        "\n",
        "from sklearn import tree\n",
        "clf = tree.DecisionTreeClassifier()\n",
        "clf.fit(X_train,y_train)\n",
        "y_pred = clf.predict(X_test)\n",
        "printScores(y_test, y_pred, \"tree\")"
      ],
      "execution_count": 28,
      "outputs": [
        {
          "output_type": "stream",
          "text": [
            "--------------  tree  ------------------\n",
            "recall : 0.92\n",
            "precision : 0.90\n",
            "f1 : 0.91\n",
            "accuracy : 0.93\n",
            "---------------------------------------------------\n"
          ],
          "name": "stdout"
        }
      ]
    },
    {
      "cell_type": "markdown",
      "metadata": {
        "id": "qj0vGNncFrP-"
      },
      "source": [
        "What are the most important features?"
      ]
    },
    {
      "cell_type": "code",
      "metadata": {
        "id": "w4H5EwC3F1b-",
        "outputId": "eb499e26-dda9-42e5-ac3f-25ce5efffb76",
        "colab": {
          "base_uri": "https://localhost:8080/",
          "height": 225
        }
      },
      "source": [
        "pd.DataFrame(100*clf.feature_importances_ , index = X_train.columns)"
      ],
      "execution_count": 29,
      "outputs": [
        {
          "output_type": "execute_result",
          "data": {
            "text/html": [
              "<div>\n",
              "<style scoped>\n",
              "    .dataframe tbody tr th:only-of-type {\n",
              "        vertical-align: middle;\n",
              "    }\n",
              "\n",
              "    .dataframe tbody tr th {\n",
              "        vertical-align: top;\n",
              "    }\n",
              "\n",
              "    .dataframe thead th {\n",
              "        text-align: right;\n",
              "    }\n",
              "</style>\n",
              "<table border=\"1\" class=\"dataframe\">\n",
              "  <thead>\n",
              "    <tr style=\"text-align: right;\">\n",
              "      <th></th>\n",
              "      <th>0</th>\n",
              "    </tr>\n",
              "  </thead>\n",
              "  <tbody>\n",
              "    <tr>\n",
              "      <th>month</th>\n",
              "      <td>3.524127</td>\n",
              "    </tr>\n",
              "    <tr>\n",
              "      <th>hour</th>\n",
              "      <td>5.008499</td>\n",
              "    </tr>\n",
              "    <tr>\n",
              "      <th>year</th>\n",
              "      <td>0.209836</td>\n",
              "    </tr>\n",
              "    <tr>\n",
              "      <th>weekday</th>\n",
              "      <td>3.233219</td>\n",
              "    </tr>\n",
              "    <tr>\n",
              "      <th>lon</th>\n",
              "      <td>44.623763</td>\n",
              "    </tr>\n",
              "    <tr>\n",
              "      <th>lat</th>\n",
              "      <td>43.400555</td>\n",
              "    </tr>\n",
              "  </tbody>\n",
              "</table>\n",
              "</div>"
            ],
            "text/plain": [
              "                 0\n",
              "month     3.524127\n",
              "hour      5.008499\n",
              "year      0.209836\n",
              "weekday   3.233219\n",
              "lon      44.623763\n",
              "lat      43.400555"
            ]
          },
          "metadata": {
            "tags": []
          },
          "execution_count": 29
        }
      ]
    },
    {
      "cell_type": "markdown",
      "metadata": {
        "id": "g2bU5avRGAnO"
      },
      "source": [
        "The position features (lat and lon) are undoubtedly the most important.\n",
        "> On the other hand year doesn't provide much information.\n",
        "> now taking the lat and lon as the primary source in the new training set\n",
        "> we reapply the algorithm , because other values seems to less effecting\n",
        "> Results are better when we only keep 2 predictors: \"lat\" and \"lon\". "
      ]
    },
    {
      "cell_type": "code",
      "metadata": {
        "id": "4BDGEmEgGGoR"
      },
      "source": [
        "#MODIFIED TRAINING SET of lat and longitude\n",
        "#this one is parametrized\n",
        "# use from training set and test sets , only 2 variables , lat and lon\n",
        "#for cross validation\n",
        "\n",
        "X_train2 , X_test2 = X_train[[\"lat\" , \"lon\" ]]  , X_test[[\"lat\" , \"lon\" ]]\n"
      ],
      "execution_count": 30,
      "outputs": []
    },
    {
      "cell_type": "code",
      "metadata": {
        "id": "qeV-q693GcOa",
        "outputId": "1bd5debe-9bd7-484d-fcf6-dab6f4c69862",
        "colab": {
          "base_uri": "https://localhost:8080/",
          "height": 118
        }
      },
      "source": [
        "#SVM\n",
        "from sklearn import svm\n",
        "clf = svm.SVC()\n",
        "clf.fit(X_train2, y_train)  \n",
        "y_pred = clf.predict(X_test2)\n",
        "printScores(y_test, y_pred, \"svm\")"
      ],
      "execution_count": 31,
      "outputs": [
        {
          "output_type": "stream",
          "text": [
            "--------------  svm  ------------------\n",
            "recall : 0.00\n",
            "precision : 0.00\n",
            "f1 : 0.00\n",
            "accuracy : 0.58\n",
            "---------------------------------------------------\n"
          ],
          "name": "stdout"
        }
      ]
    },
    {
      "cell_type": "code",
      "metadata": {
        "id": "bRm45rkDGkTb",
        "outputId": "560b1dd8-acac-4b72-bd7a-e40d2f47ae72",
        "colab": {
          "base_uri": "https://localhost:8080/",
          "height": 118
        }
      },
      "source": [
        "#tree\n",
        "\n",
        "\n",
        "from sklearn import tree\n",
        "clf = tree.DecisionTreeClassifier()\n",
        "clf.fit(X_train2,y_train)\n",
        "y_pred = clf.predict(X_test2)\n",
        "printScores(y_test, y_pred, \"tree\")"
      ],
      "execution_count": 32,
      "outputs": [
        {
          "output_type": "stream",
          "text": [
            "--------------  tree  ------------------\n",
            "recall : 0.96\n",
            "precision : 0.93\n",
            "f1 : 0.94\n",
            "accuracy : 0.95\n",
            "---------------------------------------------------\n"
          ],
          "name": "stdout"
        }
      ]
    },
    {
      "cell_type": "code",
      "metadata": {
        "id": "HcWLyFgzG11d",
        "outputId": "0ffffac0-565e-44a1-9aa1-efbc908248c3",
        "colab": {
          "base_uri": "https://localhost:8080/",
          "height": 118
        }
      },
      "source": [
        "#random forest\n",
        "\n",
        "# use from training set and test sets \n",
        "# for cross valiadtion\n",
        "#n_estiamotor is 100 , as default from update of 2.10\n",
        "\n",
        "from sklearn.ensemble import RandomForestClassifier\n",
        "clf = RandomForestClassifier(n_estimators = 100)\n",
        "clf.fit(X_train2,y_train)\n",
        "y_pred = clf.predict(X_test2)\n",
        "printScores(y_test, y_pred, \"RandomForestClassifier\")"
      ],
      "execution_count": 33,
      "outputs": [
        {
          "output_type": "stream",
          "text": [
            "--------------  RandomForestClassifier  ------------------\n",
            "recall : 0.96\n",
            "precision : 0.93\n",
            "f1 : 0.94\n",
            "accuracy : 0.95\n",
            "---------------------------------------------------\n"
          ],
          "name": "stdout"
        }
      ]
    },
    {
      "cell_type": "code",
      "metadata": {
        "id": "mirj3sLPG-Df",
        "outputId": "7d46075f-faf6-426b-8023-eb082a6324be",
        "colab": {
          "base_uri": "https://localhost:8080/",
          "height": 118
        }
      },
      "source": [
        "#logreg \n",
        "\n",
        "# use from training set and test sets \n",
        "#for cross valiadtion\n",
        "\n",
        "from sklearn.linear_model import LogisticRegression\n",
        "clf = LogisticRegression()\n",
        "clf.fit(X_train2,y_train)\n",
        "y_pred = pd.Series(clf.predict(X_test2))\n",
        "printScores(y_test, y_pred, \"LogisticRegression\")"
      ],
      "execution_count": 34,
      "outputs": [
        {
          "output_type": "stream",
          "text": [
            "--------------  LogisticRegression  ------------------\n",
            "recall : 0.09\n",
            "precision : 0.31\n",
            "f1 : 0.14\n",
            "accuracy : 0.53\n",
            "---------------------------------------------------\n"
          ],
          "name": "stdout"
        }
      ]
    },
    {
      "cell_type": "markdown",
      "metadata": {
        "id": "sGuUaqB2HSrg"
      },
      "source": [
        "> The tree based model (decision tree and random forest) perform the best\n",
        "> How big should be our training set?\n",
        "> Is collecting more data worth it? And will it improve our model?"
      ]
    },
    {
      "cell_type": "code",
      "metadata": {
        "id": "BYeCFb91HRqn",
        "outputId": "37573b53-7ede-4289-c063-b31e19659a37",
        "colab": {
          "base_uri": "https://localhost:8080/",
          "height": 297
        }
      },
      "source": [
        "#drawing the prediction graph\n",
        "\n",
        "training_set_size = [0.05*i for i in range(1,19)]\n",
        "accuracy = []\n",
        "from sklearn import tree   \n",
        "for size in training_set_size:\n",
        "    # won't be using the test in that case...this is just a way of splitting the data\n",
        "    X_train2, X_test2, y_train2, y_test2 = train_test_split(X_train, y_train, test_size=1-size, random_state=42) \n",
        "    clf = tree.DecisionTreeClassifier()  \n",
        "    clf.fit(X_train2,y_train2)\n",
        "    y_pred = clf.predict(X_test)\n",
        "    #printScores(y_test, y_pred, \"tree\")\n",
        "    accuracy.append(  (X_train2.shape[0] ,accuracy_score(y_test, y_pred) )  )\n",
        "\n",
        "xx = [w[0] for w in accuracy]\n",
        "yy = [w[1] for w in accuracy]\n",
        "plt.scatter(xx,yy)\n",
        "plt.xlabel('Training Set Size')\n",
        "plt.ylabel('Accuracy')\n",
        "plt.title(\"Learning Curve: Accuracy vs training set size\")\n",
        "plt.tight_layout()"
      ],
      "execution_count": 36,
      "outputs": [
        {
          "output_type": "display_data",
          "data": {
            "image/png": "[encoded data removed]",
            "text/plain": [
              "<Figure size 432x288 with 1 Axes>"
            ]
          },
          "metadata": {
            "tags": [],
            "needs_background": "light"
          }
        }
      ]
    }
  ]
}